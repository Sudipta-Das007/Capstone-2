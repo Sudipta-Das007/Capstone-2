{
 "cells": [
  {
   "cell_type": "code",
   "execution_count": 6,
   "id": "4181718b",
   "metadata": {},
   "outputs": [
    {
     "name": "stdout",
     "output_type": "stream",
     "text": [
      " * Serving Flask app '__main__'\n",
      " * Debug mode: on\n"
     ]
    },
    {
     "name": "stderr",
     "output_type": "stream",
     "text": [
      "WARNING: This is a development server. Do not use it in a production deployment. Use a production WSGI server instead.\n",
      " * Running on http://127.0.0.1:5000\n",
      "Press CTRL+C to quit\n",
      " * Restarting with watchdog (windowsapi)\n"
     ]
    },
    {
     "ename": "SystemExit",
     "evalue": "1",
     "output_type": "error",
     "traceback": [
      "An exception has occurred, use %tb to see the full traceback.\n",
      "\u001b[1;31mSystemExit\u001b[0m\u001b[1;31m:\u001b[0m 1\n"
     ]
    },
    {
     "name": "stderr",
     "output_type": "stream",
     "text": [
      "C:\\ProgramData\\anaconda3\\Lib\\site-packages\\IPython\\core\\interactiveshell.py:3534: UserWarning: To exit: use 'exit', 'quit', or Ctrl-D.\n",
      "  warn(\"To exit: use 'exit', 'quit', or Ctrl-D.\", stacklevel=1)\n"
     ]
    }
   ],
   "source": [
    "from flask import Flask, render_template, request, jsonify, redirect, url_for\n",
    "from PIL import Image\n",
    "import torch\n",
    "from transformers import ViTFeatureExtractor, AutoTokenizer, VisionEncoderDecoderModel\n",
    "\n",
    "app = Flask(__name__)\n",
    "app.config['UPLOAD_FOLDER'] = 'uploads'\n",
    "\n",
    "# Load your image captioning model\n",
    "model = VisionEncoderDecoderModel.from_pretrained(\"nlpconnect/vit-gpt2-image-captioning\")\n",
    "feature_extractor = ViTFeatureExtractor.from_pretrained(\"nlpconnect/vit-gpt2-image-captioning\")\n",
    "tokenizer = AutoTokenizer.from_pretrained(\"nlpconnect/vit-gpt2-image-captioning\")\n",
    "device = torch.device(\"cuda\" if torch.cuda.is_available() else \"cpu\")\n",
    "model.to(device)\n",
    "\n",
    "max_length = 16\n",
    "num_beams = 4\n",
    "gen_kwargs = {\"max_length\": max_length, \"num_beams\": num_beams}\n",
    "\n",
    "def allowed_file(filename):\n",
    "    return '.' in filename and filename.rsplit('.', 1)[1].lower() in {'jpg', 'jpeg', 'png', 'gif'}\n",
    "\n",
    "@app.route('/', methods=['GET', 'POST'])\n",
    "def index():\n",
    "    if request.method == 'POST':\n",
    "        if 'image' not in request.files:\n",
    "            return redirect(request.url)\n",
    "\n",
    "        file = request.files['image']\n",
    "\n",
    "        if file and allowed_file(file.filename):\n",
    "            image = Image.open(file)\n",
    "            if image.mode != \"RGB\":\n",
    "                image = image.convert(\"RGB\")\n",
    "\n",
    "            pixel_values = feature_extractor(images=image, return_tensors=\"pt\").pixel_values\n",
    "            pixel_values = pixel_values.to(device)\n",
    "\n",
    "            output_ids = model.generate(pixel_values, **gen_kwargs)\n",
    "\n",
    "            preds = tokenizer.batch_decode(output_ids, skip_special_tokens=True)\n",
    "            preds = [pred.strip() for pred in preds]\n",
    "\n",
    "            return render_template('index.html', image=file, caption=preds[0])\n",
    "\n",
    "    return render_template('index.html')\n",
    "\n",
    "@app.route('/generate_caption', methods=['POST'])\n",
    "def generate_caption():\n",
    "    if request.method == 'POST':\n",
    "        if 'image' not in request.files:\n",
    "            return jsonify({'error': 'No file part'})\n",
    "\n",
    "        file = request.files['image']\n",
    "\n",
    "        if file and allowed_file(file.filename):\n",
    "            image = Image.open(file)\n",
    "            if image.mode != \"RGB\":\n",
    "                image = image.convert(\"RGB\")\n",
    "\n",
    "            pixel_values = feature_extractor(images=image, return_tensors=\"pt\").pixel_values\n",
    "            pixel_values = pixel_values.to(device)\n",
    "\n",
    "            output_ids = model.generate(pixel_values, **gen_kwargs)\n",
    "\n",
    "            preds = tokenizer.batch_decode(output_ids, skip_special_tokens=True)\n",
    "            preds = [pred.strip() for pred in preds]\n",
    "\n",
    "            return jsonify({'caption': preds[0]})\n",
    "\n",
    "    return jsonify({'error': 'Unable to generate caption'})\n",
    "\n",
    "if __name__ == '__main__':\n",
    "    app.run(debug=True)\n"
   ]
  },
  {
   "cell_type": "code",
   "execution_count": null,
   "id": "8dc794b8",
   "metadata": {},
   "outputs": [],
   "source": []
  }
 ],
 "metadata": {
  "kernelspec": {
   "display_name": "Python 3 (ipykernel)",
   "language": "python",
   "name": "python3"
  },
  "language_info": {
   "codemirror_mode": {
    "name": "ipython",
    "version": 3
   },
   "file_extension": ".py",
   "mimetype": "text/x-python",
   "name": "python",
   "nbconvert_exporter": "python",
   "pygments_lexer": "ipython3",
   "version": "3.11.5"
  }
 },
 "nbformat": 4,
 "nbformat_minor": 5
}
